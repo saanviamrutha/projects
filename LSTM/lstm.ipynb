{
  "nbformat": 4,
  "nbformat_minor": 0,
  "metadata": {
    "colab": {
      "provenance": []
    },
    "kernelspec": {
      "name": "python3",
      "display_name": "Python 3"
    },
    "language_info": {
      "name": "python"
    }
  },
  "cells": [
    {
      "cell_type": "code",
      "execution_count": 4,
      "metadata": {
        "id": "XIRsJBtDlvv_"
      },
      "outputs": [],
      "source": [
        "import numpy as np\n",
        "import torch\n",
        "import torch.nn as nn\n",
        "import torch.optim as optim\n",
        "import matplotlib.pyplot as plt"
      ]
    },
    {
      "cell_type": "code",
      "source": [
        "X = []\n",
        "for i in range(10000):\n",
        " x = []\n",
        " # Size of the input\n",
        " n = np.random.randint(2, 9)\n",
        "\n",
        " random = np.random.uniform(low=0.0, high=1.0, size=n)\n",
        "\n",
        "\n",
        " # Create an array of zeros with size 10\n",
        " arr = np.zeros(n, dtype=int)\n",
        "\n",
        " # Generate two random indices for the two ones\n",
        " idx1, idx2 = np.random.choice(n, size=2, replace=False)\n",
        "\n",
        " # Set the values at the two random indices to 1\n",
        " arr[idx1] = 1\n",
        " arr[idx2] = 1\n",
        " x.append(random)\n",
        " x.append(arr)\n",
        " y = np.array(x)\n",
        "\n",
        " z = np.transpose(y)\n",
        " X.append(z)"
      ],
      "metadata": {
        "id": "V02tm92pmN8W"
      },
      "execution_count": 5,
      "outputs": []
    },
    {
      "cell_type": "code",
      "source": [
        "Y = []\n",
        "for i in range(len(X)):\n",
        "  label=0\n",
        "  for j in range(len(X[i])):\n",
        "   label += X[i][j][0]*X[i][j][1]\n",
        "  Y.append(label)"
      ],
      "metadata": {
        "id": "NcNpudOpmi5Q"
      },
      "execution_count": 6,
      "outputs": []
    },
    {
      "cell_type": "code",
      "source": [
        "train_ratio = 0.6\n",
        "train_size = int(train_ratio * len(X))\n",
        "X_train, X_test = np.split(X, [train_size])\n",
        "y_train, y_test = np.split(Y, [train_size])"
      ],
      "metadata": {
        "colab": {
          "base_uri": "https://localhost:8080/"
        },
        "id": "AtIfWpeSmYzs",
        "outputId": "02b25dc8-28eb-481b-cb76-d686b78a9956"
      },
      "execution_count": 7,
      "outputs": [
        {
          "output_type": "stream",
          "name": "stderr",
          "text": [
            "/usr/local/lib/python3.10/dist-packages/numpy/core/fromnumeric.py:43: VisibleDeprecationWarning: Creating an ndarray from ragged nested sequences (which is a list-or-tuple of lists-or-tuples-or ndarrays with different lengths or shapes) is deprecated. If you meant to do this, you must specify 'dtype=object' when creating the ndarray.\n",
            "  result = getattr(asarray(obj), method)(*args, **kwds)\n"
          ]
        }
      ]
    },
    {
      "cell_type": "code",
      "source": [
        "class LSTMNetwork:\n",
        "    def __init__(self, input_size, hidden_size, output_size):\n",
        "        \n",
        "        self.hidden_size = hidden_size\n",
        "        self.input_size = input_size\n",
        "        self.output_size = output_size\n",
        "        # self.cell_state = cell_state\n",
        "\n",
        "        #Initilaize the weights\n",
        "        self.w_f = torch.tensor(np.random.randn(hidden_size, hidden_size+input_size),requires_grad = True)\n",
        "        self.w_i = torch.tensor(np.random.randn(hidden_size, hidden_size+input_size),requires_grad = True)\n",
        "        self.w_o = torch.tensor(np.random.randn(hidden_size, hidden_size+input_size),requires_grad = True)\n",
        "        self.w_c = torch.tensor(np.random.randn(hidden_size, hidden_size+input_size),requires_grad = True)\n",
        "        self.w_y = torch.tensor(np.random.randn(1,hidden_size),requires_grad = True)\n",
        "\n",
        "        #Initialize biases\n",
        "        self.bf = torch.tensor(np.random.randn(hidden_size, 1),requires_grad = True)\n",
        "        self.bi = torch.tensor(np.random.randn(hidden_size, 1),requires_grad = True)\n",
        "        self.bo = torch.tensor(np.random.randn(hidden_size, 1),requires_grad = True)\n",
        "        self.bc = torch.tensor(np.random.randn(hidden_size, 1),requires_grad = True)\n",
        "        self.by = torch.tensor(np.random.randn(1,1),requires_grad = True)\n",
        "\n",
        "    def forward(self, x):\n",
        "        h = torch.tensor(np.zeros((self.hidden_size, 1)))\n",
        "        C = torch.tensor(np.zeros((self.hidden_size,1)))\n",
        "        # print(h.size())\n",
        "        for j in range(x.shape[0]):\n",
        "            f  = torch.sigmoid(torch.matmul(self.w_f, torch.cat((h, torch.tensor(x[j]).unsqueeze(1)),dim=0)) + self.bf)\n",
        "            i  =   torch.sigmoid(torch.matmul(self.w_i, torch.cat((h, torch.tensor(x[j]).unsqueeze(1)),dim=0)) + self.bi)\n",
        "            cell= torch.sigmoid(torch.matmul(self.w_c, torch.cat((h, torch.tensor(x[j]).unsqueeze(1)),dim=0)) + self.bc)\n",
        "            C = f*C + i*cell\n",
        "            o  = torch.sigmoid(torch.matmul(self.w_o, torch.cat((h, torch.tensor(x[j]).unsqueeze(1)),dim=0)) + self.bo)\n",
        "            h = o*torch.tanh(C)\n",
        "            \n",
        "            \n",
        "            \n",
        "            \n",
        "            \n",
        "            # Output layer\n",
        "            y = torch.relu(torch.matmul(self.w_y , h) + self.by)\n",
        "        \n",
        "        return y\n",
        "    def train(self, x, y_true, learning_rate, num_epochs):\n",
        "        optimizer1 = optim.SGD([self.w_f,self.w_i,self.w_c,self.w_o,self.w_y,self.bf,self.bi,self.bc,self.bo,self.by], lr=learning_rate)\n",
        "        epoch_loss_graph1 = []\n",
        "        # base_line = []\n",
        "        for epoch in range(num_epochs):\n",
        "            loss1 = 0\n",
        "            epoch_loss1 = 0\n",
        "            # l = 0\n",
        "            for i in range(x.shape[0]):\n",
        "                # Forward pass\n",
        "                \n",
        "                y_pred = self.forward(x[i])\n",
        "                \n",
        "                # Compute loss\n",
        "                epoch_loss1 += torch.square(y_pred - y_true[i]).sum()\n",
        "                loss1 = torch.square(y_pred - y_true[i]).sum()\n",
        "                # l += torch.square(torch.tensor(1) - y_true[i]).sum()\n",
        "                # Backward pass\n",
        "                optimizer1.zero_grad()\n",
        "                loss1.backward()\n",
        "                optimizer1.step()\n",
        "            # print(float(epoch_loss/x.shape[0]))\n",
        "            # print(float(epoch_loss1/x.shape[0]))\n",
        "            # print(float(epoch_loss1/x.shape[0]))\n",
        "            a1 = float(epoch_loss1/x.shape[0])\n",
        "            epoch_loss_graph1.append(a1) \n",
        "            # base_line.append(float(l)/x.shape[0])\n",
        "        # print(epoch_loss_graph) \n",
        "        return epoch_loss_graph1\n",
        "\n",
        "\n",
        "\n"
      ],
      "metadata": {
        "id": "QePYT2jvlyLj"
      },
      "execution_count": 8,
      "outputs": []
    },
    {
      "cell_type": "code",
      "source": [
        "# Create LSTM network object\n",
        "lstm_net = LSTMNetwork(2,3,1)\n",
        "\n",
        "points1 = lstm_net.train(X_train, y_train, 0.01, 40)"
      ],
      "metadata": {
        "id": "IgNKfnA2mGa1"
      },
      "execution_count": 9,
      "outputs": []
    },
    {
      "cell_type": "code",
      "source": [
        "\n",
        "\n",
        "plt.plot(np.array(points1),label='LSTM')\n",
        "\n",
        "\n",
        "plt.xlabel('Number of epochs')\n",
        "plt.ylabel('Loss')\n",
        "plt.plot()\n",
        "plt.legend()\n",
        "plt.show()"
      ],
      "metadata": {
        "colab": {
          "base_uri": "https://localhost:8080/",
          "height": 449
        },
        "id": "L_nxUDXil1GL",
        "outputId": "51c9a5b9-fb16-4fd8-cb92-0dc8363de349"
      },
      "execution_count": 10,
      "outputs": [
        {
          "output_type": "display_data",
          "data": {
            "text/plain": [
              "<Figure size 640x480 with 1 Axes>"
            ],
            "image/png": "[encoded data removed]"
          },
          "metadata": {}
        }
      ]
    }
  ]
}